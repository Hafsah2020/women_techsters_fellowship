{
 "cells": [
  {
   "cell_type": "markdown",
   "id": "a050a2d0",
   "metadata": {},
   "source": [
    "<center><b> Hafsah Anibaba</b></center>\n",
    "<center> WTF/23/DS/B/068 </center>"
   ]
  },
  {
   "cell_type": "code",
   "execution_count": 1,
   "id": "9d5b52f8",
   "metadata": {},
   "outputs": [],
   "source": [
    "#import libraries\n",
    "\n",
    "import pandas as pd\n",
    "import matplotlib.pyplot as plt\n",
    "import seaborn as sns"
   ]
  },
  {
   "cell_type": "code",
   "execution_count": 2,
   "id": "0de86d10",
   "metadata": {
    "scrolled": false
   },
   "outputs": [
    {
     "data": {
      "text/html": [
       "<div>\n",
       "<style scoped>\n",
       "    .dataframe tbody tr th:only-of-type {\n",
       "        vertical-align: middle;\n",
       "    }\n",
       "\n",
       "    .dataframe tbody tr th {\n",
       "        vertical-align: top;\n",
       "    }\n",
       "\n",
       "    .dataframe thead th {\n",
       "        text-align: right;\n",
       "    }\n",
       "</style>\n",
       "<table border=\"1\" class=\"dataframe\">\n",
       "  <thead>\n",
       "    <tr style=\"text-align: right;\">\n",
       "      <th></th>\n",
       "      <th>id</th>\n",
       "      <th>manufacturer</th>\n",
       "      <th>company_location</th>\n",
       "      <th>year_reviewed</th>\n",
       "      <th>bean_origin</th>\n",
       "      <th>bar_name</th>\n",
       "      <th>cocoa_percent</th>\n",
       "      <th>num_ingredients</th>\n",
       "      <th>ingredients</th>\n",
       "      <th>review</th>\n",
       "      <th>rating</th>\n",
       "    </tr>\n",
       "  </thead>\n",
       "  <tbody>\n",
       "    <tr>\n",
       "      <th>0</th>\n",
       "      <td>2454</td>\n",
       "      <td>5150</td>\n",
       "      <td>U.S.A.</td>\n",
       "      <td>2019</td>\n",
       "      <td>Tanzania</td>\n",
       "      <td>Kokoa Kamili, batch 1</td>\n",
       "      <td>76.0</td>\n",
       "      <td>3.0</td>\n",
       "      <td>B,S,C</td>\n",
       "      <td>rich cocoa, fatty, bready</td>\n",
       "      <td>3.25</td>\n",
       "    </tr>\n",
       "    <tr>\n",
       "      <th>1</th>\n",
       "      <td>2458</td>\n",
       "      <td>5150</td>\n",
       "      <td>U.S.A.</td>\n",
       "      <td>2019</td>\n",
       "      <td>Dominican Republic</td>\n",
       "      <td>Zorzal, batch 1</td>\n",
       "      <td>76.0</td>\n",
       "      <td>3.0</td>\n",
       "      <td>B,S,C</td>\n",
       "      <td>cocoa, vegetal, savory</td>\n",
       "      <td>3.50</td>\n",
       "    </tr>\n",
       "    <tr>\n",
       "      <th>2</th>\n",
       "      <td>2454</td>\n",
       "      <td>5150</td>\n",
       "      <td>U.S.A.</td>\n",
       "      <td>2019</td>\n",
       "      <td>Madagascar</td>\n",
       "      <td>Bejofo Estate, batch 1</td>\n",
       "      <td>76.0</td>\n",
       "      <td>3.0</td>\n",
       "      <td>B,S,C</td>\n",
       "      <td>cocoa, blackberry, full body</td>\n",
       "      <td>3.75</td>\n",
       "    </tr>\n",
       "    <tr>\n",
       "      <th>3</th>\n",
       "      <td>2542</td>\n",
       "      <td>5150</td>\n",
       "      <td>U.S.A.</td>\n",
       "      <td>2021</td>\n",
       "      <td>Fiji</td>\n",
       "      <td>Matasawalevu, batch 1</td>\n",
       "      <td>68.0</td>\n",
       "      <td>3.0</td>\n",
       "      <td>B,S,C</td>\n",
       "      <td>chewy, off, rubbery</td>\n",
       "      <td>3.00</td>\n",
       "    </tr>\n",
       "    <tr>\n",
       "      <th>4</th>\n",
       "      <td>2546</td>\n",
       "      <td>5150</td>\n",
       "      <td>U.S.A.</td>\n",
       "      <td>2021</td>\n",
       "      <td>Venezuela</td>\n",
       "      <td>Sur del Lago, batch 1</td>\n",
       "      <td>72.0</td>\n",
       "      <td>3.0</td>\n",
       "      <td>B,S,C</td>\n",
       "      <td>fatty, earthy, moss, nutty,chalky</td>\n",
       "      <td>3.00</td>\n",
       "    </tr>\n",
       "  </tbody>\n",
       "</table>\n",
       "</div>"
      ],
      "text/plain": [
       "     id manufacturer company_location  year_reviewed         bean_origin  \\\n",
       "0  2454         5150           U.S.A.           2019            Tanzania   \n",
       "1  2458         5150           U.S.A.           2019  Dominican Republic   \n",
       "2  2454         5150           U.S.A.           2019          Madagascar   \n",
       "3  2542         5150           U.S.A.           2021                Fiji   \n",
       "4  2546         5150           U.S.A.           2021           Venezuela   \n",
       "\n",
       "                 bar_name  cocoa_percent  num_ingredients ingredients  \\\n",
       "0   Kokoa Kamili, batch 1           76.0              3.0       B,S,C   \n",
       "1         Zorzal, batch 1           76.0              3.0       B,S,C   \n",
       "2  Bejofo Estate, batch 1           76.0              3.0       B,S,C   \n",
       "3   Matasawalevu, batch 1           68.0              3.0       B,S,C   \n",
       "4   Sur del Lago, batch 1           72.0              3.0       B,S,C   \n",
       "\n",
       "                              review  rating  \n",
       "0          rich cocoa, fatty, bready    3.25  \n",
       "1             cocoa, vegetal, savory    3.50  \n",
       "2       cocoa, blackberry, full body    3.75  \n",
       "3                chewy, off, rubbery    3.00  \n",
       "4  fatty, earthy, moss, nutty,chalky    3.00  "
      ]
     },
     "execution_count": 2,
     "metadata": {},
     "output_type": "execute_result"
    }
   ],
   "source": [
    "# read in data\n",
    "\n",
    "data = pd.read_csv('chocolate_bars.csv')\n",
    "data.head()"
   ]
  },
  {
   "cell_type": "code",
   "execution_count": 3,
   "id": "c0bc66eb",
   "metadata": {},
   "outputs": [
    {
     "data": {
      "text/plain": [
       "id                    int64\n",
       "manufacturer         object\n",
       "company_location     object\n",
       "year_reviewed         int64\n",
       "bean_origin          object\n",
       "bar_name             object\n",
       "cocoa_percent       float64\n",
       "num_ingredients     float64\n",
       "ingredients          object\n",
       "review               object\n",
       "rating              float64\n",
       "dtype: object"
      ]
     },
     "execution_count": 3,
     "metadata": {},
     "output_type": "execute_result"
    }
   ],
   "source": [
    "data.dtypes"
   ]
  },
  {
   "cell_type": "code",
   "execution_count": 4,
   "id": "57f61bba",
   "metadata": {},
   "outputs": [
    {
     "data": {
      "text/plain": [
       "(2530, 11)"
      ]
     },
     "execution_count": 4,
     "metadata": {},
     "output_type": "execute_result"
    }
   ],
   "source": [
    "data.shape"
   ]
  },
  {
   "cell_type": "markdown",
   "id": "5e7702aa",
   "metadata": {},
   "source": [
    "#### data wrangling"
   ]
  },
  {
   "cell_type": "code",
   "execution_count": 5,
   "id": "dd3778ba",
   "metadata": {},
   "outputs": [
    {
     "data": {
      "text/plain": [
       "id                   0\n",
       "manufacturer         0\n",
       "company_location     0\n",
       "year_reviewed        0\n",
       "bean_origin          0\n",
       "bar_name             0\n",
       "cocoa_percent        0\n",
       "num_ingredients     87\n",
       "ingredients         87\n",
       "review               0\n",
       "rating               0\n",
       "dtype: int64"
      ]
     },
     "execution_count": 5,
     "metadata": {},
     "output_type": "execute_result"
    }
   ],
   "source": [
    "data.isna().sum()"
   ]
  },
  {
   "cell_type": "code",
   "execution_count": 6,
   "id": "7bbe426d",
   "metadata": {},
   "outputs": [],
   "source": [
    "data = data.dropna()"
   ]
  },
  {
   "cell_type": "code",
   "execution_count": 7,
   "id": "cf2dfb4d",
   "metadata": {
    "scrolled": true
   },
   "outputs": [
    {
     "data": {
      "text/plain": [
       "1816"
      ]
     },
     "execution_count": 7,
     "metadata": {},
     "output_type": "execute_result"
    }
   ],
   "source": [
    "data['id'].duplicated().sum()"
   ]
  },
  {
   "cell_type": "markdown",
   "id": "3a666422",
   "metadata": {},
   "source": [
    "### EDA"
   ]
  },
  {
   "cell_type": "markdown",
   "id": "02898c4d",
   "metadata": {},
   "source": [
    "#### Question 1\n",
    "\n",
    "What is the average rating by country of origin?"
   ]
  },
  {
   "cell_type": "code",
   "execution_count": 8,
   "id": "dd61c987",
   "metadata": {},
   "outputs": [
    {
     "data": {
      "text/html": [
       "<div>\n",
       "<style scoped>\n",
       "    .dataframe tbody tr th:only-of-type {\n",
       "        vertical-align: middle;\n",
       "    }\n",
       "\n",
       "    .dataframe tbody tr th {\n",
       "        vertical-align: top;\n",
       "    }\n",
       "\n",
       "    .dataframe thead th {\n",
       "        text-align: right;\n",
       "    }\n",
       "</style>\n",
       "<table border=\"1\" class=\"dataframe\">\n",
       "  <thead>\n",
       "    <tr style=\"text-align: right;\">\n",
       "      <th></th>\n",
       "      <th>0</th>\n",
       "      <th>1</th>\n",
       "      <th>2</th>\n",
       "      <th>3</th>\n",
       "      <th>4</th>\n",
       "      <th>5</th>\n",
       "      <th>6</th>\n",
       "      <th>7</th>\n",
       "      <th>8</th>\n",
       "      <th>9</th>\n",
       "      <th>...</th>\n",
       "      <th>52</th>\n",
       "      <th>53</th>\n",
       "      <th>54</th>\n",
       "      <th>55</th>\n",
       "      <th>56</th>\n",
       "      <th>57</th>\n",
       "      <th>58</th>\n",
       "      <th>59</th>\n",
       "      <th>60</th>\n",
       "      <th>61</th>\n",
       "    </tr>\n",
       "  </thead>\n",
       "  <tbody>\n",
       "    <tr>\n",
       "      <th>bean_origin</th>\n",
       "      <td>Australia</td>\n",
       "      <td>Belize</td>\n",
       "      <td>Blend</td>\n",
       "      <td>Bolivia</td>\n",
       "      <td>Brazil</td>\n",
       "      <td>Burma</td>\n",
       "      <td>Cameroon</td>\n",
       "      <td>China</td>\n",
       "      <td>Colombia</td>\n",
       "      <td>Congo</td>\n",
       "      <td>...</td>\n",
       "      <td>Tanzania</td>\n",
       "      <td>Thailand</td>\n",
       "      <td>Tobago</td>\n",
       "      <td>Togo</td>\n",
       "      <td>Trinidad</td>\n",
       "      <td>U.S.A.</td>\n",
       "      <td>Uganda</td>\n",
       "      <td>Vanuatu</td>\n",
       "      <td>Venezuela</td>\n",
       "      <td>Vietnam</td>\n",
       "    </tr>\n",
       "    <tr>\n",
       "      <th>rating</th>\n",
       "      <td>3.25</td>\n",
       "      <td>3.243243</td>\n",
       "      <td>3.085069</td>\n",
       "      <td>3.18038</td>\n",
       "      <td>3.25974</td>\n",
       "      <td>3.0</td>\n",
       "      <td>3.083333</td>\n",
       "      <td>3.5</td>\n",
       "      <td>3.205128</td>\n",
       "      <td>3.318182</td>\n",
       "      <td>...</td>\n",
       "      <td>3.24359</td>\n",
       "      <td>3.3</td>\n",
       "      <td>3.25</td>\n",
       "      <td>3.083333</td>\n",
       "      <td>3.244048</td>\n",
       "      <td>3.217742</td>\n",
       "      <td>3.097222</td>\n",
       "      <td>3.0625</td>\n",
       "      <td>3.239837</td>\n",
       "      <td>3.287671</td>\n",
       "    </tr>\n",
       "  </tbody>\n",
       "</table>\n",
       "<p>2 rows × 62 columns</p>\n",
       "</div>"
      ],
      "text/plain": [
       "                    0         1         2        3        4      5         6   \\\n",
       "bean_origin  Australia    Belize     Blend  Bolivia   Brazil  Burma  Cameroon   \n",
       "rating            3.25  3.243243  3.085069  3.18038  3.25974    3.0  3.083333   \n",
       "\n",
       "                7         8         9   ...        52        53      54  \\\n",
       "bean_origin  China  Colombia     Congo  ...  Tanzania  Thailand  Tobago   \n",
       "rating         3.5  3.205128  3.318182  ...   3.24359       3.3    3.25   \n",
       "\n",
       "                   55        56        57        58       59         60  \\\n",
       "bean_origin      Togo  Trinidad    U.S.A.    Uganda  Vanuatu  Venezuela   \n",
       "rating       3.083333  3.244048  3.217742  3.097222   3.0625   3.239837   \n",
       "\n",
       "                   61  \n",
       "bean_origin   Vietnam  \n",
       "rating       3.287671  \n",
       "\n",
       "[2 rows x 62 columns]"
      ]
     },
     "execution_count": 8,
     "metadata": {},
     "output_type": "execute_result"
    }
   ],
   "source": [
    "rate = data[['rating', 'bean_origin']].groupby('bean_origin').mean()\n",
    "rate = rate.reset_index()\n",
    "rate.T"
   ]
  },
  {
   "cell_type": "code",
   "execution_count": 9,
   "id": "4bd089e9",
   "metadata": {},
   "outputs": [
    {
     "data": {
      "text/html": [
       "<div>\n",
       "<style scoped>\n",
       "    .dataframe tbody tr th:only-of-type {\n",
       "        vertical-align: middle;\n",
       "    }\n",
       "\n",
       "    .dataframe tbody tr th {\n",
       "        vertical-align: top;\n",
       "    }\n",
       "\n",
       "    .dataframe thead th {\n",
       "        text-align: right;\n",
       "    }\n",
       "</style>\n",
       "<table border=\"1\" class=\"dataframe\">\n",
       "  <thead>\n",
       "    <tr style=\"text-align: right;\">\n",
       "      <th></th>\n",
       "      <th>7</th>\n",
       "      <th>42</th>\n",
       "      <th>44</th>\n",
       "      <th>9</th>\n",
       "      <th>53</th>\n",
       "      <th>11</th>\n",
       "      <th>61</th>\n",
       "      <th>35</th>\n",
       "      <th>28</th>\n",
       "      <th>21</th>\n",
       "      <th>...</th>\n",
       "      <th>12</th>\n",
       "      <th>45</th>\n",
       "      <th>33</th>\n",
       "      <th>51</th>\n",
       "      <th>25</th>\n",
       "      <th>30</th>\n",
       "      <th>43</th>\n",
       "      <th>38</th>\n",
       "      <th>47</th>\n",
       "      <th>39</th>\n",
       "    </tr>\n",
       "  </thead>\n",
       "  <tbody>\n",
       "    <tr>\n",
       "      <th>bean_origin</th>\n",
       "      <td>China</td>\n",
       "      <td>Sao Tome &amp; Principe</td>\n",
       "      <td>Solomon Islands</td>\n",
       "      <td>Congo</td>\n",
       "      <td>Thailand</td>\n",
       "      <td>Cuba</td>\n",
       "      <td>Vietnam</td>\n",
       "      <td>Papua New Guinea</td>\n",
       "      <td>Madagascar</td>\n",
       "      <td>Haiti</td>\n",
       "      <td>...</td>\n",
       "      <td>DR Congo</td>\n",
       "      <td>Sri Lanka</td>\n",
       "      <td>Nigeria</td>\n",
       "      <td>Taiwan</td>\n",
       "      <td>Ivory Coast</td>\n",
       "      <td>Martinique</td>\n",
       "      <td>Sierra Leone</td>\n",
       "      <td>Principe</td>\n",
       "      <td>St.Vincent-Grenadines</td>\n",
       "      <td>Puerto Rico</td>\n",
       "    </tr>\n",
       "    <tr>\n",
       "      <th>rating</th>\n",
       "      <td>3.5</td>\n",
       "      <td>3.5</td>\n",
       "      <td>3.45</td>\n",
       "      <td>3.318182</td>\n",
       "      <td>3.3</td>\n",
       "      <td>3.291667</td>\n",
       "      <td>3.287671</td>\n",
       "      <td>3.280612</td>\n",
       "      <td>3.270468</td>\n",
       "      <td>3.266667</td>\n",
       "      <td>...</td>\n",
       "      <td>3.0</td>\n",
       "      <td>2.875</td>\n",
       "      <td>2.875</td>\n",
       "      <td>2.875</td>\n",
       "      <td>2.833333</td>\n",
       "      <td>2.75</td>\n",
       "      <td>2.75</td>\n",
       "      <td>2.75</td>\n",
       "      <td>2.75</td>\n",
       "      <td>2.714286</td>\n",
       "    </tr>\n",
       "  </tbody>\n",
       "</table>\n",
       "<p>2 rows × 62 columns</p>\n",
       "</div>"
      ],
      "text/plain": [
       "                7                    42               44        9         53  \\\n",
       "bean_origin  China  Sao Tome & Principe  Solomon Islands     Congo  Thailand   \n",
       "rating         3.5                  3.5             3.45  3.318182       3.3   \n",
       "\n",
       "                   11        61                35          28        21  ...  \\\n",
       "bean_origin      Cuba   Vietnam  Papua New Guinea  Madagascar     Haiti  ...   \n",
       "rating       3.291667  3.287671          3.280612    3.270468  3.266667  ...   \n",
       "\n",
       "                   12         45       33      51           25          30  \\\n",
       "bean_origin  DR Congo  Sri Lanka  Nigeria  Taiwan  Ivory Coast  Martinique   \n",
       "rating            3.0      2.875    2.875   2.875     2.833333        2.75   \n",
       "\n",
       "                       43        38                     47           39  \n",
       "bean_origin  Sierra Leone  Principe  St.Vincent-Grenadines  Puerto Rico  \n",
       "rating               2.75      2.75                   2.75     2.714286  \n",
       "\n",
       "[2 rows x 62 columns]"
      ]
     },
     "execution_count": 9,
     "metadata": {},
     "output_type": "execute_result"
    }
   ],
   "source": [
    "rate = rate.sort_values(by = 'rating', ascending = False)\n",
    "rate.T"
   ]
  },
  {
   "cell_type": "code",
   "execution_count": 10,
   "id": "02a743d9",
   "metadata": {
    "scrolled": false
   },
   "outputs": [
    {
     "data": {
      "image/png": "[encoded data removed]",
      "text/plain": [
       "<Figure size 576x864 with 1 Axes>"
      ]
     },
     "metadata": {
      "needs_background": "light"
     },
     "output_type": "display_data"
    }
   ],
   "source": [
    "plt.figure(figsize = (8, 12))\n",
    "sns.barplot(y = 'bean_origin', x = 'rating', data = rate, color = 'brown')\n",
    "plt.title('Average rating per bean_origin');"
   ]
  },
  {
   "cell_type": "markdown",
   "id": "f884bfa3",
   "metadata": {},
   "source": [
    "#### Question 2 and 3\n",
    "\n",
    "* How many bars were reviewed for each of those countries?\n",
    "* Is the cacao bean's origin an indicator of quality?"
   ]
  },
  {
   "cell_type": "code",
   "execution_count": 11,
   "id": "aa8d1479",
   "metadata": {},
   "outputs": [
    {
     "data": {
      "text/html": [
       "<div>\n",
       "<style scoped>\n",
       "    .dataframe tbody tr th:only-of-type {\n",
       "        vertical-align: middle;\n",
       "    }\n",
       "\n",
       "    .dataframe tbody tr th {\n",
       "        vertical-align: top;\n",
       "    }\n",
       "\n",
       "    .dataframe thead th {\n",
       "        text-align: right;\n",
       "    }\n",
       "</style>\n",
       "<table border=\"1\" class=\"dataframe\">\n",
       "  <thead>\n",
       "    <tr style=\"text-align: right;\">\n",
       "      <th></th>\n",
       "      <th>Venezuela</th>\n",
       "      <th>Peru</th>\n",
       "      <th>Dominican Republic</th>\n",
       "      <th>Ecuador</th>\n",
       "      <th>Madagascar</th>\n",
       "      <th>Blend</th>\n",
       "      <th>Nicaragua</th>\n",
       "      <th>Bolivia</th>\n",
       "      <th>Colombia</th>\n",
       "      <th>Tanzania</th>\n",
       "      <th>...</th>\n",
       "      <th>Tobago</th>\n",
       "      <th>Martinique</th>\n",
       "      <th>Sumatra</th>\n",
       "      <th>Gabon</th>\n",
       "      <th>Burma</th>\n",
       "      <th>China</th>\n",
       "      <th>Principe</th>\n",
       "      <th>Sulawesi</th>\n",
       "      <th>Suriname</th>\n",
       "      <th>DR Congo</th>\n",
       "    </tr>\n",
       "  </thead>\n",
       "  <tbody>\n",
       "    <tr>\n",
       "      <th>bean_origin</th>\n",
       "      <td>246</td>\n",
       "      <td>231</td>\n",
       "      <td>220</td>\n",
       "      <td>201</td>\n",
       "      <td>171</td>\n",
       "      <td>144</td>\n",
       "      <td>100</td>\n",
       "      <td>79</td>\n",
       "      <td>78</td>\n",
       "      <td>78</td>\n",
       "      <td>...</td>\n",
       "      <td>1</td>\n",
       "      <td>1</td>\n",
       "      <td>1</td>\n",
       "      <td>1</td>\n",
       "      <td>1</td>\n",
       "      <td>1</td>\n",
       "      <td>1</td>\n",
       "      <td>1</td>\n",
       "      <td>1</td>\n",
       "      <td>1</td>\n",
       "    </tr>\n",
       "  </tbody>\n",
       "</table>\n",
       "<p>1 rows × 62 columns</p>\n",
       "</div>"
      ],
      "text/plain": [
       "             Venezuela  Peru  Dominican Republic  Ecuador  Madagascar  Blend  \\\n",
       "bean_origin        246   231                 220      201         171    144   \n",
       "\n",
       "             Nicaragua  Bolivia  Colombia  Tanzania  ...  Tobago  Martinique  \\\n",
       "bean_origin        100       79        78        78  ...       1           1   \n",
       "\n",
       "             Sumatra  Gabon  Burma  China  Principe  Sulawesi  Suriname  \\\n",
       "bean_origin        1      1      1      1         1         1         1   \n",
       "\n",
       "             DR Congo  \n",
       "bean_origin         1  \n",
       "\n",
       "[1 rows x 62 columns]"
      ]
     },
     "execution_count": 11,
     "metadata": {},
     "output_type": "execute_result"
    }
   ],
   "source": [
    "data['bean_origin'].value_counts().to_frame().T"
   ]
  },
  {
   "cell_type": "code",
   "execution_count": 12,
   "id": "cff4b7cf",
   "metadata": {},
   "outputs": [
    {
     "data": {
      "image/png": "[encoded data removed]",
      "text/plain": [
       "<Figure size 576x720 with 1 Axes>"
      ]
     },
     "metadata": {
      "needs_background": "light"
     },
     "output_type": "display_data"
    }
   ],
   "source": [
    "plt.figure(figsize = (8, 10))\n",
    "order = data['bean_origin'].value_counts().index.to_list()\n",
    "sns.countplot(y = data['bean_origin'], order = order, color = 'blue')\n",
    "plt.title('Counts of review per country');"
   ]
  },
  {
   "cell_type": "markdown",
   "id": "6421b84b",
   "metadata": {},
   "source": [
    "### Question 4\n",
    "\n",
    "How does cocoa content relate to rating? What is the average cocoa content for bars with higher ratings (above 3.5)?"
   ]
  },
  {
   "cell_type": "code",
   "execution_count": 13,
   "id": "d58c1cc8",
   "metadata": {},
   "outputs": [
    {
     "data": {
      "text/plain": [
       "<AxesSubplot:xlabel='cocoa_percent', ylabel='rating'>"
      ]
     },
     "execution_count": 13,
     "metadata": {},
     "output_type": "execute_result"
    },
    {
     "data": {
      "image/png": "[encoded data removed]",
      "text/plain": [
       "<Figure size 432x288 with 1 Axes>"
      ]
     },
     "metadata": {
      "needs_background": "light"
     },
     "output_type": "display_data"
    }
   ],
   "source": [
    "sns.lineplot(x = 'cocoa_percent', y = 'rating', data = data)"
   ]
  },
  {
   "cell_type": "code",
   "execution_count": 14,
   "id": "3e0d9c68",
   "metadata": {},
   "outputs": [
    {
     "name": "stdout",
     "output_type": "stream",
     "text": [
      "The correlation between cocoa percent and rating is -0.08\n"
     ]
    }
   ],
   "source": [
    "corr = data.corr().loc['cocoa_percent', 'rating']\n",
    "print(f'The correlation between cocoa percent and rating is {round(corr, 2)}')"
   ]
  },
  {
   "cell_type": "code",
   "execution_count": 15,
   "id": "aa01bffd",
   "metadata": {},
   "outputs": [
    {
     "name": "stdout",
     "output_type": "stream",
     "text": [
      "The average cocoa percent for bars with high rating is 71.0%\n"
     ]
    }
   ],
   "source": [
    "high_ratings = data[data['rating'] > 3.5]\n",
    "average = high_ratings['cocoa_percent'].mean()\n",
    "print(f'The average cocoa percent for bars with high rating is {round(average, 2)}%')"
   ]
  },
  {
   "cell_type": "markdown",
   "id": "41c37416",
   "metadata": {},
   "source": [
    "### Question 5\n",
    "\n",
    "Your research indicates that some consumers want to avoid bars with lecithin. Compare the average rating of bars with and without lecithin (L in the ingredients)."
   ]
  },
  {
   "cell_type": "code",
   "execution_count": 16,
   "id": "5415093d",
   "metadata": {},
   "outputs": [
    {
     "name": "stdout",
     "output_type": "stream",
     "text": [
      "The average rating for bars with lecithin is 3.15\n"
     ]
    }
   ],
   "source": [
    "withL = round(data[data['ingredients'].str.contains('L')]['rating'].mean(), 2)\n",
    "print(f'The average rating for bars with lecithin is {withL}')"
   ]
  },
  {
   "cell_type": "code",
   "execution_count": 17,
   "id": "27de0b06",
   "metadata": {},
   "outputs": [
    {
     "name": "stdout",
     "output_type": "stream",
     "text": [
      "The average rating for bars without lecithin is 3.23\n"
     ]
    }
   ],
   "source": [
    "withoutL = round(data[~data['ingredients'].str.contains('L')]['rating'].mean(), 2)\n",
    "print(f'The average rating for bars without lecithin is {withoutL}')"
   ]
  },
  {
   "cell_type": "markdown",
   "id": "e0898a7d",
   "metadata": {},
   "source": [
    "### Summary\n",
    "\n",
    "* Tobago has the highest average rating and Puerto-Rico has the lowest average rating\n",
    "* Venezuela has the highest review while DR Congo has the lowest\n",
    "* No the origin is not an indicator of quality as there is no much difference in their average ratings\n",
    "* There is no strong correlation between cocoa percent and rating (-0.15). \n",
    "* The average cocoa percent for bars with high rating is 70.95%\n",
    "* The average rating for bars with lecithin is 3.15 and The average rating for bars without lecithin is 3.23. The difference is little"
   ]
  }
 ],
 "metadata": {
  "kernelspec": {
   "display_name": "Python 3 (ipykernel)",
   "language": "python",
   "name": "python3"
  },
  "language_info": {
   "codemirror_mode": {
    "name": "ipython",
    "version": 3
   },
   "file_extension": ".py",
   "mimetype": "text/x-python",
   "name": "python",
   "nbconvert_exporter": "python",
   "pygments_lexer": "ipython3",
   "version": "3.9.12"
  }
 },
 "nbformat": 4,
 "nbformat_minor": 5
}
